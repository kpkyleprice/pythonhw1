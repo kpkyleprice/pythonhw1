{
 "cells": [
  {
   "cell_type": "code",
   "execution_count": 2,
   "id": "1d153c87",
   "metadata": {},
   "outputs": [
    {
     "name": "stdout",
     "output_type": "stream",
     "text": [
      "How old are you? 22\n",
      "Adult\n"
     ]
    }
   ],
   "source": [
    "age = int(input(\"How old are you? \"))\n",
    "if age < 18:\n",
    "        print(\"Kids\")\n",
    "elif age < 64:\n",
    "        print(\"Adult\")\n",
    "else:\n",
    "        print(\"Senior\")"
   ]
  },
  {
   "cell_type": "code",
   "execution_count": 3,
   "id": "02ec77a9",
   "metadata": {},
   "outputs": [
    {
     "name": "stdout",
     "output_type": "stream",
     "text": [
      "2\n",
      "3\n",
      "5\n",
      "7\n",
      "11\n",
      "13\n",
      "17\n",
      "19\n",
      "23\n",
      "29\n",
      "31\n",
      "37\n",
      "41\n",
      "43\n",
      "47\n",
      "53\n",
      "59\n",
      "61\n",
      "67\n",
      "71\n",
      "73\n",
      "79\n",
      "83\n",
      "89\n",
      "97\n"
     ]
    }
   ],
   "source": [
    "def prime(n):\n",
    "    status = True\n",
    "    if n < 2:\n",
    "        status = False\n",
    "    else:\n",
    "        for i in range(2,n):\n",
    "            if n % i == 0:\n",
    "                status = False\n",
    "    return status\n",
    "for n in range(1,101):\n",
    "    if prime(n):\n",
    "        print(n)"
   ]
  },
  {
   "cell_type": "code",
   "execution_count": 4,
   "id": "d3a63b13",
   "metadata": {},
   "outputs": [
    {
     "name": "stdout",
     "output_type": "stream",
     "text": [
      "1\n",
      "8\n",
      "27\n",
      "64\n",
      "125\n",
      "216\n",
      "343\n",
      "512\n",
      "729\n",
      "1000\n"
     ]
    }
   ],
   "source": [
    "cube = [1, 2, 3, 4, 5, 6, 7, 8, 9, 10, 11, 12, 13, 14, 15]\n",
    "    \n",
    "for num in cube:\n",
    "    if num ** 3 > 1000:\n",
    "        break\n",
    "    print(num ** 3)"
   ]
  },
  {
   "cell_type": "code",
   "execution_count": 1,
   "id": "f6ef7b2f",
   "metadata": {},
   "outputs": [
    {
     "name": "stdout",
     "output_type": "stream",
     "text": [
      "What is the make of you car? honda\n",
      "honda is my favorite make of car!\n",
      "What kind of honda do you have? accord\n",
      "honda accord, Sweet ride!\n",
      "What year is your honda accord? 2012\n",
      "Nice!\n",
      "What color is your 2012 honda accord ? white\n",
      "Sounds like a sweet ride!\n"
     ]
    }
   ],
   "source": [
    "make = input(\"What is the make of you car? \")\n",
    "print(make + \" is my favorite make of car!\")\n",
    "\n",
    "model = input(\"What kind of \" + make + \" do you have? \")\n",
    "print(make + \" \" + model + \", Sweet ride!\")\n",
    "\n",
    "year = int(input(\"What year is your \" + make + \" \" + model + \"? \"))\n",
    "if year < 1999: \n",
    "    print(\"Vintage... I love it!\")\n",
    "if year > 1999:\n",
    "        print(\"Nice!\")\n",
    "\n",
    "color = input(\"What color is your \" + str(year) + \" \" + make + \" \" + model + \" ? \")\n",
    "print(\"Sounds like a sweet ride!\")"
   ]
  },
  {
   "cell_type": "code",
   "execution_count": 3,
   "id": "449c079a",
   "metadata": {},
   "outputs": [
    {
     "name": "stdout",
     "output_type": "stream",
     "text": [
      "What is your name? kyle price\n",
      "The letter 'p' is in your name.\n"
     ]
    }
   ],
   "source": [
    "name = input(\"What is your name? \")\n",
    "if 'p' in name:\n",
    "    print(\"The letter 'p' is in your name.\")\n",
    "else:\n",
    "    print(\"The letter 'p' is not in your name.\")\n"
   ]
  },
  {
   "cell_type": "code",
   "execution_count": null,
   "id": "bee4c060",
   "metadata": {},
   "outputs": [],
   "source": []
  }
 ],
 "metadata": {
  "kernelspec": {
   "display_name": "Python 3 (ipykernel)",
   "language": "python",
   "name": "python3"
  },
  "language_info": {
   "codemirror_mode": {
    "name": "ipython",
    "version": 3
   },
   "file_extension": ".py",
   "mimetype": "text/x-python",
   "name": "python",
   "nbconvert_exporter": "python",
   "pygments_lexer": "ipython3",
   "version": "3.9.13"
  },
  "vscode": {
   "interpreter": {
    "hash": "1b71bac9c495026ac314894acc67ce1522302aabe8018d8e93d44dbc51b6da4a"
   }
  }
 },
 "nbformat": 4,
 "nbformat_minor": 5
}
